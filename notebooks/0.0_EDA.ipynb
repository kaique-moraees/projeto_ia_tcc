{
 "cells": [
  {
   "cell_type": "markdown",
   "metadata": {
    "application/vnd.databricks.v1+cell": {
     "cellMetadata": {},
     "inputWidgets": {},
     "nuid": "fd0009af-e4a3-4014-bb08-55a842dcd738",
     "showTitle": false,
     "tableResultSettingsMap": {},
     "title": ""
    }
   },
   "source": [
    "# Objetivo\n",
    "\n",
    "Conhecer as variáveis iniciais através de uma exploratória básica para compreender a proposta introdutória do que será desenvolvido durante o projeto. \n",
    "\n",
    "O projeto será baseado no meu TCC, portanto, ainda existem alterações sobre a database que será utilizada. Caso ocorram alterações, irei indicar o momento e construir novamente as análises iniciais.\n",
    "\n",
    "O domínio dos dados é relacionado a: Preço de energia elétrica\n",
    "\n",
    "# To Do\n",
    "- Verificar características da base [Volume, variáveis]\n",
    "- Verificar as variáveis [Tipos e valores]\n",
    "- - Medidas de posição, dispersão e forma\n",
    "\n"
   ]
  },
  {
   "cell_type": "code",
   "execution_count": 0,
   "metadata": {
    "application/vnd.databricks.v1+cell": {
     "cellMetadata": {
      "byteLimit": 2048000,
      "rowLimit": 10000
     },
     "collapsed": true,
     "inputWidgets": {},
     "nuid": "8d05cd6b-4e23-43da-a0a6-6eb6c05aad4c",
     "showTitle": false,
     "tableResultSettingsMap": {},
     "title": ""
    }
   },
   "outputs": [],
   "source": [
    "import sys\n",
    "\n",
    "import os"
   ]
  },
  {
   "cell_type": "code",
   "execution_count": 0,
   "metadata": {
    "application/vnd.databricks.v1+cell": {
     "cellMetadata": {
      "byteLimit": 2048000,
      "rowLimit": 10000
     },
     "collapsed": true,
     "inputWidgets": {},
     "nuid": "1256c20d-3764-4bc5-a7a2-9e0b97005fba",
     "showTitle": false,
     "tableResultSettingsMap": {},
     "title": ""
    }
   },
   "outputs": [],
   "source": [
    "parent_dir = os.path.abspath('..')\n",
    "if parent_dir not in sys.path:\n",
    "    sys.path.insert(0, parent_dir)"
   ]
  },
  {
   "cell_type": "code",
   "execution_count": 0,
   "metadata": {
    "application/vnd.databricks.v1+cell": {
     "cellMetadata": {
      "byteLimit": 2048000,
      "rowLimit": 10000
     },
     "collapsed": true,
     "inputWidgets": {},
     "nuid": "6acbae5f-d7da-4770-92ef-1d0a8258818e",
     "showTitle": false,
     "tableResultSettingsMap": {},
     "title": ""
    }
   },
   "outputs": [],
   "source": [
    "from pyspark.sql import functions as F\n",
    "\n",
    "import pandas as pd\n",
    "import numpy as np\n",
    "\n",
    "import matplotlib.pyplot as plt\n",
    "import seaborn as sns\n",
    "\n",
    "import warnings\n",
    "# Importação das Bibliotecas e Parâmetros de Otimização\n",
    "\n",
    "# %matplotlib inline\n",
    "# sns.set(style=\"whitegrid\", font_scale=1.2)\n",
    "# plt.rcParams['font.family'] = 'Arial'\n",
    "# plt.rcParams['font.size'] = '14'\n",
    "# plt.rcParams['figure.figsize'] = [10, 5]\n",
    "# pd.set_option('display.max_rows', 100)\n",
    "# pd.set_option('display.max_columns', 100)\n",
    "# #pd.set_option('display.max_colwidth', None)\n",
    "# pd.set_option('display.expand_frame_repr', False)\n",
    "# pd.set_option('display.float_format', lambda x: '%.2f' % x) # Tira os números do formato de Notação Científica\n",
    "# np.set_printoptions(suppress=True) # Tira os números do formato de Notação Científica em Numpy Arrays\n",
    "# warnings.filterwarnings('ignore')\n",
    "# warnings.simplefilter(action='ignore', category=FutureWarning) # Retira Future Warnings"
   ]
  },
  {
   "cell_type": "markdown",
   "metadata": {
    "application/vnd.databricks.v1+cell": {
     "cellMetadata": {
      "byteLimit": 2048000,
      "rowLimit": 10000
     },
     "inputWidgets": {},
     "nuid": "76165757-9ecd-49d9-84e2-2eb39fc8c8d9",
     "showTitle": false,
     "tableResultSettingsMap": {},
     "title": ""
    }
   },
   "source": [
    "# Leitura das bases"
   ]
  },
  {
   "cell_type": "markdown",
   "metadata": {
    "application/vnd.databricks.v1+cell": {
     "cellMetadata": {},
     "inputWidgets": {},
     "nuid": "1ea36a9a-7bde-4849-825a-70491b3c20f1",
     "showTitle": false,
     "tableResultSettingsMap": {},
     "title": ""
    }
   },
   "source": [
    "- Com o uso da ferramenta na versão limitada, foi necessário construir uma tabela dentro do catálogo para realizar a leitura dela. \n",
    "- O dataset também está disponível no diretório 'data' do projeto.\n",
    "- A base está resumida e é uma versão prévia com poucas variáveis apenas para estabelecer a proposta do projeto que será desenvolvido. "
   ]
  },
  {
   "cell_type": "code",
   "execution_count": 0,
   "metadata": {
    "application/vnd.databricks.v1+cell": {
     "cellMetadata": {
      "byteLimit": 2048000,
      "rowLimit": 10000
     },
     "inputWidgets": {},
     "nuid": "5aeb8ad6-57e2-43a9-892c-77e1f51d3c6c",
     "showTitle": false,
     "tableResultSettingsMap": {},
     "title": ""
    }
   },
   "outputs": [],
   "source": [
    "df = spark.table('workspace.default.electricity_cost_dataset')"
   ]
  },
  {
   "cell_type": "code",
   "execution_count": 0,
   "metadata": {
    "application/vnd.databricks.v1+cell": {
     "cellMetadata": {
      "byteLimit": 2048000,
      "rowLimit": 10000
     },
     "inputWidgets": {},
     "nuid": "1f0da227-2760-45b3-a417-3edb80a07f77",
     "showTitle": false,
     "tableResultSettingsMap": {
      "0": {
       "dataGridStateBlob": "{\"version\":1,\"tableState\":{\"columnPinning\":{\"left\":[\"#row_number#\"],\"right\":[]},\"columnSizing\":{},\"columnVisibility\":{}},\"settings\":{\"columns\":{}},\"syncTimestamp\":1758673065640}",
       "filterBlob": null,
       "queryPlanFiltersBlob": null,
       "tableResultIndex": 0
      }
     },
     "title": ""
    }
   },
   "outputs": [],
   "source": [
    "df.display()"
   ]
  },
  {
   "cell_type": "markdown",
   "metadata": {
    "application/vnd.databricks.v1+cell": {
     "cellMetadata": {},
     "inputWidgets": {},
     "nuid": "14651898-f3f5-48b9-87c2-b9116639e30c",
     "showTitle": false,
     "tableResultSettingsMap": {},
     "title": ""
    }
   },
   "source": [
    "\n",
    "# Conhecendo as variáveis\n",
    "Ao todo temos 10.000 linhas, 0 linhas duplicadas e disponíveis em 9 variáveis.\n",
    "\n",
    "- As nomenclaturas de variáveis não está padronizado. Não há uma taxonomia definida. \n",
    "- As nomenclaturas indicam diretamente os valores que 'caracterizam'. Não há um dicionário.\n",
    "- Há uma atenção para as variáveis 'structure type' e 'resident count', qualitativa nominal e quantitativa discreta. O restante é contínua.\n",
    "- As variáveis podem ter pontos de atenção devido ao comportamento diferente dos tipos de 'structure type'. Talvez, ao filtrar especificamente cada uma das categorias, os dados se tornem mais 'normais'."
   ]
  },
  {
   "cell_type": "code",
   "execution_count": 0,
   "metadata": {
    "application/vnd.databricks.v1+cell": {
     "cellMetadata": {
      "byteLimit": 2048000,
      "rowLimit": 10000
     },
     "inputWidgets": {},
     "nuid": "d97d4350-b864-449e-ad23-6003aa0972a1",
     "showTitle": false,
     "tableResultSettingsMap": {},
     "title": ""
    }
   },
   "outputs": [],
   "source": [
    "print(f'Há um total de {df.count()} registros')"
   ]
  },
  {
   "cell_type": "code",
   "execution_count": 0,
   "metadata": {
    "application/vnd.databricks.v1+cell": {
     "cellMetadata": {
      "byteLimit": 2048000,
      "rowLimit": 10000
     },
     "inputWidgets": {},
     "nuid": "9a413c10-0c3e-413b-adc8-a00608704d08",
     "showTitle": false,
     "tableResultSettingsMap": {},
     "title": ""
    }
   },
   "outputs": [],
   "source": [
    "duplicate_rows = df.count() - df.dropDuplicates().count()\n",
    "print(f\"Há um total de {duplicate_rows} registros duplicados\")"
   ]
  },
  {
   "cell_type": "code",
   "execution_count": 0,
   "metadata": {
    "application/vnd.databricks.v1+cell": {
     "cellMetadata": {
      "byteLimit": 2048000,
      "rowLimit": 10000
     },
     "inputWidgets": {},
     "nuid": "6ffe87d3-c408-4160-a742-c401df75e8b5",
     "showTitle": false,
     "tableResultSettingsMap": {},
     "title": ""
    }
   },
   "outputs": [],
   "source": [
    "df.dtypes"
   ]
  },
  {
   "cell_type": "code",
   "execution_count": 0,
   "metadata": {
    "application/vnd.databricks.v1+cell": {
     "cellMetadata": {
      "byteLimit": 2048000,
      "rowLimit": 10000
     },
     "inputWidgets": {},
     "nuid": "3ad63eca-5d70-4e4a-9192-fdd0df3b89e2",
     "showTitle": false,
     "tableResultSettingsMap": {},
     "title": ""
    }
   },
   "outputs": [],
   "source": [
    "# Selecionando somente as colunas numéricas\n",
    "numerical_cols = [col_name for col_name, dtype in df.dtypes if dtype in ['bigint', 'big' 'double']]"
   ]
  },
  {
   "cell_type": "code",
   "execution_count": 0,
   "metadata": {
    "application/vnd.databricks.v1+cell": {
     "cellMetadata": {
      "byteLimit": 2048000,
      "rowLimit": 10000
     },
     "inputWidgets": {},
     "nuid": "0af8a592-18de-4b62-b394-af0c96b14334",
     "showTitle": false,
     "tableResultSettingsMap": {},
     "title": ""
    }
   },
   "outputs": [],
   "source": [
    "# Selecionando somente as colunas categóricas\n",
    "categorical_cols = [col_name for col_name, dtype in df.dtypes if dtype == 'string']"
   ]
  },
  {
   "cell_type": "markdown",
   "metadata": {
    "application/vnd.databricks.v1+cell": {
     "cellMetadata": {},
     "inputWidgets": {},
     "nuid": "9d8f6122-323a-4ad0-a847-6a66f2f94c92",
     "showTitle": false,
     "tableResultSettingsMap": {},
     "title": ""
    }
   },
   "source": [
    "## Avaliação de medidas\n",
    "\n",
    "- Devido as características das variáveis contínuas é notável que há uma dispersão maior entre elas. Não há nenhuma extrapolação visível inicialmente\n",
    "- Há muitos outliers na 'resident count'.  \n"
   ]
  },
  {
   "cell_type": "code",
   "execution_count": 0,
   "metadata": {
    "application/vnd.databricks.v1+cell": {
     "cellMetadata": {
      "byteLimit": 2048000,
      "rowLimit": 10000
     },
     "inputWidgets": {},
     "nuid": "56237569-c1f1-4f04-b5cc-63b289bbf18d",
     "showTitle": false,
     "tableResultSettingsMap": {},
     "title": ""
    }
   },
   "outputs": [],
   "source": [
    "# Verificando as estatísticas das colunas \n",
    "for var in numerical_cols:\n",
    "    df.select(var).summary().display()"
   ]
  },
  {
   "cell_type": "code",
   "execution_count": 0,
   "metadata": {
    "application/vnd.databricks.v1+cell": {
     "cellMetadata": {
      "byteLimit": 2048000,
      "rowLimit": 10000
     },
     "inputWidgets": {},
     "nuid": "cece0e2a-1ea2-4779-9c57-b932587c2f7d",
     "showTitle": false,
     "tableResultSettingsMap": {},
     "title": ""
    }
   },
   "outputs": [],
   "source": [
    "missing_values = df.select([F.when(F.col(c).isNull(), 1).otherwise(0).alias(c) for c in df.columns])\\\n",
    "                  .agg(*[F.sum(F.col(c)).alias(c) for c in df.columns])\n",
    "\n",
    "missing_values.display()"
   ]
  },
  {
   "cell_type": "code",
   "execution_count": 0,
   "metadata": {
    "application/vnd.databricks.v1+cell": {
     "cellMetadata": {
      "byteLimit": 2048000,
      "rowLimit": 10000
     },
     "inputWidgets": {},
     "nuid": "d75b95b4-72ec-4bde-a712-ce907e373787",
     "showTitle": false,
     "tableResultSettingsMap": {},
     "title": ""
    }
   },
   "outputs": [],
   "source": [
    "df_pandas = df.toPandas()\n",
    "\n",
    "# Ajuste no tamanho da figura com base no número de colunas numéricas\n",
    "plt.figure(figsize=(10, 5 * len(numerical_cols)))\n",
    "\n",
    "# Boxplot, Violin Plot e Histograma para cada variável numérica (visualização vertical)\n",
    "for i, col in enumerate(numerical_cols):\n",
    "    # Boxplot\n",
    "    plt.subplot(len(numerical_cols), 3, 3*i + 1)\n",
    "    sns.boxplot(y=df_pandas[col])\n",
    "    plt.title(f'Boxplot - {col}')\n",
    "    \n",
    "    # Violin Plot\n",
    "    plt.subplot(len(numerical_cols), 3, 3*i + 2)\n",
    "    sns.violinplot(y=df_pandas[col])\n",
    "    plt.title(f'Violin Plot - {col}')\n",
    "    \n",
    "    # Distribuição com Histograma\n",
    "    plt.subplot(len(numerical_cols), 3, 3*i + 3)\n",
    "    sns.histplot(df_pandas[col], kde=True)\n",
    "    plt.title(f'Distribuição de {col}')\n",
    "\n",
    "# Ajuste da disposição dos subgráficos para evitar sobreposição\n",
    "plt.tight_layout()\n",
    "plt.show()"
   ]
  },
  {
   "cell_type": "code",
   "execution_count": 0,
   "metadata": {
    "application/vnd.databricks.v1+cell": {
     "cellMetadata": {
      "byteLimit": 2048000,
      "rowLimit": 10000
     },
     "inputWidgets": {},
     "nuid": "43e11895-258c-44b2-9f25-0a179b5ce741",
     "showTitle": false,
     "tableResultSettingsMap": {},
     "title": ""
    }
   },
   "outputs": [],
   "source": [
    "structures_list = df.select('structure type').distinct().collect()\n",
    "\n",
    "structures_list = [row['structure type'] for row in df.select('structure type').distinct().collect()]\n",
    "\n",
    "structures_list\n"
   ]
  },
  {
   "cell_type": "code",
   "execution_count": 0,
   "metadata": {
    "application/vnd.databricks.v1+cell": {
     "cellMetadata": {
      "byteLimit": 2048000,
      "rowLimit": 10000
     },
     "inputWidgets": {},
     "nuid": "d73dbca7-2b2b-4bba-b060-849b39d26ffa",
     "showTitle": false,
     "tableResultSettingsMap": {},
     "title": ""
    }
   },
   "outputs": [],
   "source": [
    "for structure in structures_list:\n",
    "    df_filtered = df.filter(F.col('structure type') == structure)\n",
    "    df_pandas = df_filtered.toPandas()\n",
    "\n",
    "    # Ajuste no tamanho da figura com base no número de colunas numéricas\n",
    "    plt.figure(figsize=(10, 5 * len(numerical_cols)))\n",
    "    plt.suptitle(f'Structure Type: {structure}', fontsize=16, y=1.02)\n",
    "\n",
    "    # Boxplot, Violin Plot e Histograma para cada variável numérica (visualização vertical)\n",
    "    for i, col in enumerate(numerical_cols):\n",
    "        # Boxplot\n",
    "        plt.subplot(len(numerical_cols), 3, 3*i + 1)\n",
    "        sns.boxplot(y=df_pandas[col])\n",
    "        plt.title(f'Boxplot - {col}')\n",
    "\n",
    "        # Violin Plot\n",
    "        plt.subplot(len(numerical_cols), 3, 3*i + 2)\n",
    "        sns.violinplot(y=df_pandas[col])\n",
    "        plt.title(f'Violin Plot - {col}')\n",
    "\n",
    "        # Distribuição com Histograma\n",
    "        plt.subplot(len(numerical_cols), 3, 3*i + 3)\n",
    "        sns.histplot(df_pandas[col], kde=True)\n",
    "        plt.title(f'Distribuição de {col}')\n",
    "\n",
    "    # Ajuste da disposição dos subgráficos para evitar sobreposição\n",
    "    plt.tight_layout()\n",
    "    plt.show()"
   ]
  },
  {
   "cell_type": "code",
   "execution_count": 0,
   "metadata": {
    "application/vnd.databricks.v1+cell": {
     "cellMetadata": {
      "byteLimit": 2048000,
      "rowLimit": 10000
     },
     "inputWidgets": {},
     "nuid": "2ee4de6a-762f-40b6-a33a-21c8c741e594",
     "showTitle": false,
     "tableResultSettingsMap": {},
     "title": ""
    }
   },
   "outputs": [],
   "source": [
    "for col_name in categorical_cols:\n",
    "    df.groupBy(col_name).count().display()"
   ]
  },
  {
   "cell_type": "code",
   "execution_count": 0,
   "metadata": {
    "application/vnd.databricks.v1+cell": {
     "cellMetadata": {
      "byteLimit": 2048000,
      "rowLimit": 10000
     },
     "inputWidgets": {},
     "nuid": "8ce62b69-fa38-4d83-88df-9ea342812cfc",
     "showTitle": false,
     "tableResultSettingsMap": {},
     "title": ""
    }
   },
   "outputs": [],
   "source": [
    "df_pandas = df.toPandas()\n",
    "\n",
    "plt.figure(figsize=(10, 5 * len(categorical_cols)))\n",
    "\n",
    "# Gráfico de barras para variáveis categóricas com % centralizada dentro da barra\n",
    "for i, col in enumerate(categorical_cols):\n",
    "    plt.subplot(len(categorical_cols), 1, i+1)\n",
    "    ax = sns.countplot(x=col, data=df_pandas)\n",
    "    plt.title(f'Distribuição das Categorias - {col}')\n",
    "    plt.xlabel('Categorias')\n",
    "    plt.ylabel('Contagem')\n",
    "    plt.xticks(rotation=45)\n",
    "    \n",
    "    total = len(df_pandas)\n",
    "    for p in ax.patches:\n",
    "        count = int(p.get_height())\n",
    "        percent = 100 * count / total\n",
    "        ax.annotate(f'{percent:.1f}%', \n",
    "                    (p.get_x() + p.get_width() / 2, p.get_height() / 2), \n",
    "                    ha='center', va='center', fontsize=11, color='white', fontweight='bold')\n",
    "\n",
    "plt.tight_layout()\n",
    "plt.show()"
   ]
  },
  {
   "cell_type": "code",
   "execution_count": 0,
   "metadata": {
    "application/vnd.databricks.v1+cell": {
     "cellMetadata": {
      "byteLimit": 2048000,
      "rowLimit": 10000
     },
     "inputWidgets": {},
     "nuid": "672a1afc-7dd6-46a4-a1e5-7c03a733e91e",
     "showTitle": false,
     "tableResultSettingsMap": {},
     "title": ""
    }
   },
   "outputs": [],
   "source": [
    "# Cálculo da matriz de correlação para todas as combinações de colunas numéricas\n",
    "df_pandas = df.select(numerical_cols).toPandas()\n",
    "correlation_matrix = df_pandas.corr()\n",
    "\n",
    "# Visualização da correlação usando Heatmap\n",
    "plt.figure(figsize=(12, 8))\n",
    "sns.heatmap(correlation_matrix, annot=True, cmap='coolwarm', fmt='.2f')\n",
    "plt.title('Matriz de Correlação')\n",
    "plt.show()"
   ]
  },
  {
   "cell_type": "code",
   "execution_count": 0,
   "metadata": {
    "application/vnd.databricks.v1+cell": {
     "cellMetadata": {},
     "inputWidgets": {},
     "nuid": "e0ddaf6b-b217-45fc-b085-67c150adfc6a",
     "showTitle": false,
     "tableResultSettingsMap": {},
     "title": ""
    }
   },
   "outputs": [],
   "source": []
  }
 ],
 "metadata": {
  "application/vnd.databricks.v1+notebook": {
   "computePreferences": {
    "hardware": {
     "accelerator": null,
     "gpuPoolId": null,
     "memory": null
    }
   },
   "dashboards": [],
   "environmentMetadata": {
    "base_environment": "",
    "environment_version": "3"
   },
   "inputWidgetPreferences": null,
   "language": "python",
   "notebookMetadata": {
    "pythonIndentUnit": 4
   },
   "notebookName": "0.0_EDA",
   "widgets": {}
  },
  "language_info": {
   "name": "python"
  }
 },
 "nbformat": 4,
 "nbformat_minor": 0
}
